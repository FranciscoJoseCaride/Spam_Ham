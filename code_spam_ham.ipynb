{
 "cells": [
  {
   "cell_type": "code",
   "execution_count": null,
   "metadata": {},
   "outputs": [],
   "source": [
    "import numpy as np \n",
    "import pandas as pd \n",
    "df_test = pd.read_excel('testing.xlsx')\n",
    "df = pd.read_excel('training.xlsx')\n",
    "from sklearn.naive_bayes import MultinomialNB\n",
    "from sklearn.model_selection import train_test_split\n",
    "#here de 'df[]' and mbow_train are to  dataframe in excel\n",
    "X_train, X_test, y_train, y_test = train_test_split(mbow_train, df['spam'], test_size = 0.20, random_state = 0)\n",
    "from sklearn.naive_bayes import MultinomialNB\n",
    "classifier = MultinomialNB()\n",
    "classifier.fit(X_train, y_train)\n",
    "\n",
    "print(classifier.predict(X_train))\n",
    "print(y_train.values)\n",
    "\n",
    "from sklearn.metrics import classification_report,confusion_matrix, accuracy_score\n",
    "pred = classifier.predict(X_train)\n",
    "\n",
    "\n",
    "#here to get an excel with the result, \n",
    "test = mbow_test\n",
    "pred = classifier.predict(test)\n",
    "\n",
    "submission = pd.DataFrame(list(range(len(df_test))),columns =['Id'])\n",
    "submission['Category'] = pred\n",
    "print('Tasa de spam:',(submission.Category==1).mean())\n",
    "submission.head()\n",
    "\n",
    "submission.index = submission['Id']\n",
    "submission.drop(['Id'],axis = 1, inplace=True)\n",
    "\n",
    "#exporto\n",
    "submission.to_csv('submission.csv')"
   ]
  }
 ],
 "metadata": {
  "kernelspec": {
   "display_name": "Python 3",
   "language": "python",
   "name": "python3"
  },
  "language_info": {
   "codemirror_mode": {
    "name": "ipython",
    "version": 3
   },
   "file_extension": ".py",
   "mimetype": "text/x-python",
   "name": "python",
   "nbconvert_exporter": "python",
   "pygments_lexer": "ipython3",
   "version": "3.8.3"
  }
 },
 "nbformat": 4,
 "nbformat_minor": 4
}
